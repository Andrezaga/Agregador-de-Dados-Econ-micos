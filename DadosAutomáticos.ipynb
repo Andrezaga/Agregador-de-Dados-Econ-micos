{
  "nbformat": 4,
  "nbformat_minor": 0,
  "metadata": {
    "colab": {
      "name": "DadosAutomáticos.ipynb",
      "provenance": [],
      "collapsed_sections": [
        "hri2x3wu9UCU",
        "H-IePuu5VYbh",
        "FbshmV0bU7pV",
        "mv1685pOxkSM"
      ],
      "include_colab_link": true
    },
    "kernelspec": {
      "name": "python3",
      "display_name": "Python 3"
    },
    "language_info": {
      "name": "python"
    }
  },
  "cells": [
    {
      "cell_type": "markdown",
      "metadata": {
        "id": "view-in-github",
        "colab_type": "text"
      },
      "source": [
        "<a href=\"https://colab.research.google.com/github/Andrezaga/Agregador-de-Dados-Econ-micos/blob/main/DadosAutom%C3%A1ticos.ipynb\" target=\"_parent\"><img src=\"https://colab.research.google.com/assets/colab-badge.svg\" alt=\"Open In Colab\"/></a>"
      ]
    },
    {
      "cell_type": "markdown",
      "source": [
        "## Extração de dados dos indicadores e inserção na planilha de análise"
      ],
      "metadata": {
        "id": "cub5aR1_8RBR"
      }
    },
    {
      "cell_type": "markdown",
      "source": [
        "# Bibliotecas\n"
      ],
      "metadata": {
        "id": "hri2x3wu9UCU"
      }
    },
    {
      "cell_type": "code",
      "execution_count": null,
      "metadata": {
        "colab": {
          "base_uri": "https://localhost:8080/"
        },
        "id": "knAfdLnK8Nw3",
        "outputId": "6e939fb7-6f8e-4330-9902-aac87173dd64"
      },
      "outputs": [
        {
          "output_type": "stream",
          "name": "stdout",
          "text": [
            "Requirement already satisfied: selenium in /usr/local/lib/python3.7/dist-packages (4.1.1)\n",
            "Requirement already satisfied: trio-websocket~=0.9 in /usr/local/lib/python3.7/dist-packages (from selenium) (0.9.2)\n",
            "Requirement already satisfied: urllib3[secure,socks]~=1.26 in /usr/local/lib/python3.7/dist-packages (from selenium) (1.26.8)\n",
            "Requirement already satisfied: trio~=0.17 in /usr/local/lib/python3.7/dist-packages (from selenium) (0.20.0)\n",
            "Requirement already satisfied: outcome in /usr/local/lib/python3.7/dist-packages (from trio~=0.17->selenium) (1.1.0)\n",
            "Requirement already satisfied: sortedcontainers in /usr/local/lib/python3.7/dist-packages (from trio~=0.17->selenium) (2.4.0)\n",
            "Requirement already satisfied: sniffio in /usr/local/lib/python3.7/dist-packages (from trio~=0.17->selenium) (1.2.0)\n",
            "Requirement already satisfied: idna in /usr/local/lib/python3.7/dist-packages (from trio~=0.17->selenium) (2.10)\n",
            "Requirement already satisfied: attrs>=19.2.0 in /usr/local/lib/python3.7/dist-packages (from trio~=0.17->selenium) (21.4.0)\n",
            "Requirement already satisfied: async-generator>=1.9 in /usr/local/lib/python3.7/dist-packages (from trio~=0.17->selenium) (1.10)\n",
            "Requirement already satisfied: wsproto>=0.14 in /usr/local/lib/python3.7/dist-packages (from trio-websocket~=0.9->selenium) (1.0.0)\n",
            "Requirement already satisfied: PySocks!=1.5.7,<2.0,>=1.5.6 in /usr/local/lib/python3.7/dist-packages (from urllib3[secure,socks]~=1.26->selenium) (1.7.1)\n",
            "Requirement already satisfied: certifi in /usr/local/lib/python3.7/dist-packages (from urllib3[secure,socks]~=1.26->selenium) (2021.10.8)\n",
            "Requirement already satisfied: cryptography>=1.3.4 in /usr/local/lib/python3.7/dist-packages (from urllib3[secure,socks]~=1.26->selenium) (36.0.1)\n",
            "Requirement already satisfied: pyOpenSSL>=0.14 in /usr/local/lib/python3.7/dist-packages (from urllib3[secure,socks]~=1.26->selenium) (22.0.0)\n",
            "Requirement already satisfied: cffi>=1.12 in /usr/local/lib/python3.7/dist-packages (from cryptography>=1.3.4->urllib3[secure,socks]~=1.26->selenium) (1.15.0)\n",
            "Requirement already satisfied: pycparser in /usr/local/lib/python3.7/dist-packages (from cffi>=1.12->cryptography>=1.3.4->urllib3[secure,socks]~=1.26->selenium) (2.21)\n",
            "Requirement already satisfied: h11<1,>=0.9.0 in /usr/local/lib/python3.7/dist-packages (from wsproto>=0.14->trio-websocket~=0.9->selenium) (0.13.0)\n",
            "Requirement already satisfied: typing-extensions in /usr/local/lib/python3.7/dist-packages (from h11<1,>=0.9.0->wsproto>=0.14->trio-websocket~=0.9->selenium) (3.10.0.2)\n",
            "Get:1 http://security.ubuntu.com/ubuntu bionic-security InRelease [88.7 kB]\n",
            "Hit:2 https://cloud.r-project.org/bin/linux/ubuntu bionic-cran40/ InRelease\n",
            "Ign:3 https://developer.download.nvidia.com/compute/cuda/repos/ubuntu1804/x86_64  InRelease\n",
            "Ign:4 https://developer.download.nvidia.com/compute/machine-learning/repos/ubuntu1804/x86_64  InRelease\n",
            "Hit:5 https://developer.download.nvidia.com/compute/cuda/repos/ubuntu1804/x86_64  Release\n",
            "Hit:6 http://ppa.launchpad.net/c2d4u.team/c2d4u4.0+/ubuntu bionic InRelease\n",
            "Hit:7 https://developer.download.nvidia.com/compute/machine-learning/repos/ubuntu1804/x86_64  Release\n",
            "Hit:8 http://ppa.launchpad.net/cran/libgit2/ubuntu bionic InRelease\n",
            "Hit:9 http://ppa.launchpad.net/deadsnakes/ppa/ubuntu bionic InRelease\n",
            "Hit:10 http://ppa.launchpad.net/graphics-drivers/ppa/ubuntu bionic InRelease\n",
            "Hit:12 http://archive.ubuntu.com/ubuntu bionic InRelease\n",
            "Get:13 http://archive.ubuntu.com/ubuntu bionic-updates InRelease [88.7 kB]\n",
            "Get:15 http://archive.ubuntu.com/ubuntu bionic-backports InRelease [74.6 kB]\n",
            "Fetched 252 kB in 3s (85.7 kB/s)\n",
            "Reading package lists... Done\n",
            "Reading package lists... Done\n",
            "Building dependency tree       \n",
            "Reading state information... Done\n",
            "chromium-chromedriver is already the newest version (97.0.4692.71-0ubuntu0.18.04.1).\n",
            "The following package was automatically installed and is no longer required:\n",
            "  libnvidia-common-470\n",
            "Use 'apt autoremove' to remove it.\n",
            "0 upgraded, 0 newly installed, 0 to remove and 67 not upgraded.\n",
            "Requirement already satisfied: yfinance in /usr/local/lib/python3.7/dist-packages (0.1.70)\n",
            "Requirement already satisfied: requests>=2.26 in /usr/local/lib/python3.7/dist-packages (from yfinance) (2.27.1)\n",
            "Requirement already satisfied: lxml>=4.5.1 in /usr/local/lib/python3.7/dist-packages (from yfinance) (4.8.0)\n",
            "Requirement already satisfied: pandas>=0.24.0 in /usr/local/lib/python3.7/dist-packages (from yfinance) (1.3.5)\n",
            "Requirement already satisfied: multitasking>=0.0.7 in /usr/local/lib/python3.7/dist-packages (from yfinance) (0.0.10)\n",
            "Requirement already satisfied: numpy>=1.15 in /usr/local/lib/python3.7/dist-packages (from yfinance) (1.21.5)\n",
            "Requirement already satisfied: pytz>=2017.3 in /usr/local/lib/python3.7/dist-packages (from pandas>=0.24.0->yfinance) (2018.9)\n",
            "Requirement already satisfied: python-dateutil>=2.7.3 in /usr/local/lib/python3.7/dist-packages (from pandas>=0.24.0->yfinance) (2.8.2)\n",
            "Requirement already satisfied: six>=1.5 in /usr/local/lib/python3.7/dist-packages (from python-dateutil>=2.7.3->pandas>=0.24.0->yfinance) (1.15.0)\n",
            "Requirement already satisfied: charset-normalizer~=2.0.0 in /usr/local/lib/python3.7/dist-packages (from requests>=2.26->yfinance) (2.0.12)\n",
            "Requirement already satisfied: urllib3<1.27,>=1.21.1 in /usr/local/lib/python3.7/dist-packages (from requests>=2.26->yfinance) (1.26.8)\n",
            "Requirement already satisfied: certifi>=2017.4.17 in /usr/local/lib/python3.7/dist-packages (from requests>=2.26->yfinance) (2021.10.8)\n",
            "Requirement already satisfied: idna<4,>=2.5 in /usr/local/lib/python3.7/dist-packages (from requests>=2.26->yfinance) (2.10)\n"
          ]
        }
      ],
      "source": [
        "import pandas as pd\n",
        "import numpy as np\n",
        "from pandas_datareader import data as web\n",
        "from time import sleep\n",
        "from datetime import datetime\n",
        "from openpyxl import Workbook, load_workbook\n",
        "\n",
        "import requests \n",
        "from bs4 import BeautifulSoup\n",
        "\n",
        "!pip install selenium\n",
        "!apt-get update\n",
        "!apt install chromium-chromedriver\n",
        "\n",
        "from selenium import webdriver\n",
        "\n",
        "!pip install yfinance --upgrade --no-cache-dir\n",
        "import yfinance as yf\n",
        "yf.pdr_override()"
      ]
    },
    {
      "cell_type": "markdown",
      "source": [
        "# Funções\n",
        "\n"
      ],
      "metadata": {
        "id": "H-IePuu5VYbh"
      }
    },
    {
      "cell_type": "code",
      "source": [
        "#Faz a consulta dos dados do Bacen\n",
        "def consulta_bc(codigo_bcb):\n",
        "  url = 'http://api.bcb.gov.br/dados/serie/bcdata.sgs.{}/dados?formato=json'.format(codigo_bcb)\n",
        "  df = pd.read_json(url)\n",
        "  df.columns = ['Data','Valor']\n",
        "  return df"
      ],
      "metadata": {
        "id": "VqE36-W8AeBp"
      },
      "execution_count": null,
      "outputs": []
    },
    {
      "cell_type": "code",
      "source": [
        "#Faz a consulta dos dados do Yahoo Finance\n",
        "#def consulta_yf(codigo_yf):\n",
        "#df = web.DataReader('^BVSP', data_source='yahoo')\n",
        "#df\n",
        "  #return df\n",
        "\n",
        "#PROBLEMA"
      ],
      "metadata": {
        "id": "E3Wre1kpjINe"
      },
      "execution_count": null,
      "outputs": []
    },
    {
      "cell_type": "code",
      "source": [
        "#Faz a consulta dos dados do Yahoo Finance\n",
        "def consulta_yf(codigo_yf):\n",
        "  ativo = web.get_data_yahoo(codigo_yf)\n",
        "  return ativo"
      ],
      "metadata": {
        "id": "OF3T4A8AHuAr"
      },
      "execution_count": null,
      "outputs": []
    },
    {
      "cell_type": "code",
      "source": [
        "#Extrai dados de uma página do IpeaData\n",
        "def consulta_riscobrasil(dias):\n",
        "  ipea = requests.get('http://www.ipeadata.gov.br/ExibeSerie.aspx?serid=40940&module=M')\n",
        "  ipeahtml = ipea.content\n",
        "  siteipea = BeautifulSoup(ipeahtml,'html.parser')\n",
        "  tabelaipea = siteipea.find('table', attrs={'id':'grd_DXMainTable'})\n",
        "  data = []\n",
        "  valor = []\n",
        "  for i in np.arange(dias):\n",
        "    text = 'grd_DXDataRow{}'.format(i)\n",
        "    riskBR = tabelaipea.find('tr', attrs={'id': text})\n",
        "    a = str(riskBR.text)\n",
        "    data.append(a[:11].strip())\n",
        "    valor.append(a[11:].strip())\n",
        "  df = pd.DataFrame(list(zip(data,valor)))\n",
        "  df.columns=['Data','Valor']\n",
        "  df.Valor = pd.to_numeric(df.Valor)\n",
        "  return df"
      ],
      "metadata": {
        "id": "6ZeknDy2Dc35"
      },
      "execution_count": null,
      "outputs": []
    },
    {
      "cell_type": "code",
      "source": [
        "#Extrai dados de uma página do Yahii\n",
        "def consultavar_iie2022(mes):\n",
        "  chrome_options = webdriver.ChromeOptions()\n",
        "  chrome_options.add_argument('--headless')\n",
        "  chrome_options.add_argument('--no-sandbox')\n",
        "  chrome_options.add_argument('--disable-dev-shm-usage')\n",
        "  wd_chrome = webdriver.Chrome(chrome_options=chrome_options)\n",
        "  wd_chrome.get('http://www.yahii.com.br/iieBR.html')\n",
        "  tab = wd_chrome.find_element_by_xpath('/html/body/div/center/center/center[2]/center/center/center/font/font/div[3]/table')\n",
        "  xpath = '/html/body/div/center/center/center[2]/center/center/center/font/font/div[3]/table/tbody/tr[{}]/td[8]'.format(mes)\n",
        "  datatab1 = tab.find_element_by_xpath(xpath)\n",
        "  datatab1.text\n",
        "  if datatab1.text == ' ':\n",
        "    mes -= 1\n",
        "    xpath = '/html/body/div/center/center/center[2]/center/center/center/font/font/div[3]/table/tbody/tr[{}]/td[8]'.format(mes)\n",
        "    datatab1 = tab.find_element_by_xpath(xpath)\n",
        "  iien = float(datatab1.text.replace(',','.'))\n",
        "  iien\n",
        "  if mes == 2:\n",
        "    xpath = '/html/body/div/center/center/center[2]/center/center/center/font/font/div[3]/table/tbody/tr[13]/td[7]'\n",
        "    datatab2 = tab.find_element_by_xpath(xpath)\n",
        "    iieb = float(datatab2.text.replace(',','.'))\n",
        "  else:\n",
        "    mes -= 1\n",
        "    xpath = '/html/body/div/center/center/center[2]/center/center/center/font/font/div[3]/table/tbody/tr[{}]/td[8]'.format(mes)\n",
        "    datatab2 = tab.find_element_by_xpath(xpath)\n",
        "    iieb = float(datatab2.text.replace(',','.'))\n",
        "  return iien, iieb                \n"
      ],
      "metadata": {
        "id": "syMYjRBJeN6i"
      },
      "execution_count": null,
      "outputs": []
    },
    {
      "cell_type": "markdown",
      "source": [
        "# INPUTS"
      ],
      "metadata": {
        "id": "FbshmV0bU7pV"
      }
    },
    {
      "cell_type": "code",
      "source": [
        "lista_var = []"
      ],
      "metadata": {
        "id": "lWsM_02vGnFc"
      },
      "execution_count": null,
      "outputs": []
    },
    {
      "cell_type": "code",
      "source": [
        "#Pib mensal a valores correntes / valores e variação\n",
        "PIB = consulta_bc(4380)\n",
        "PIB = PIB.iloc[-2:,:]\n",
        "PIBvar = (PIB.iloc[-1,1] - PIB.iloc[-2,1])/PIB.iloc[-2,1]\n",
        "print(PIB)\n",
        "lista_var.append(PIBvar)\n",
        "PIBvar"
      ],
      "metadata": {
        "colab": {
          "base_uri": "https://localhost:8080/"
        },
        "id": "d3w0T-VLU4_d",
        "outputId": "c4b78aaf-8d47-4b80-ad8d-cfb8f80c1d7b"
      },
      "execution_count": null,
      "outputs": [
        {
          "output_type": "stream",
          "name": "stdout",
          "text": [
            "           Data     Valor\n",
            "382  01/11/2021  749729.4\n",
            "383  01/12/2021  758918.9\n"
          ]
        },
        {
          "output_type": "execute_result",
          "data": {
            "text/plain": [
              "0.012257089024386665"
            ]
          },
          "metadata": {},
          "execution_count": 179
        }
      ]
    },
    {
      "cell_type": "code",
      "source": [
        "#IBC-Br mensal / valores e variação\n",
        "IBC = consulta_bc(24363)\n",
        "IBC = IBC.iloc[-2:,:]\n",
        "IBCvar = (IBC.iloc[-1,1] - IBC.iloc[-2,1])/IBC.iloc[-2,1]\n",
        "print(IBC)\n",
        "lista_var.append(IBCvar)\n",
        "IBCvar"
      ],
      "metadata": {
        "colab": {
          "base_uri": "https://localhost:8080/"
        },
        "id": "fdKwEQJaXvyr",
        "outputId": "7f563812-95a8-4168-ec12-d85e5c60a114"
      },
      "execution_count": null,
      "outputs": [
        {
          "output_type": "stream",
          "name": "stdout",
          "text": [
            "           Data   Valor\n",
            "226  01/11/2021  139.76\n",
            "227  01/12/2021  141.46\n"
          ]
        },
        {
          "output_type": "execute_result",
          "data": {
            "text/plain": [
              "0.012163709215798634"
            ]
          },
          "metadata": {},
          "execution_count": 180
        }
      ]
    },
    {
      "cell_type": "code",
      "source": [
        "#ICB-Br mensal / valores e variação\n",
        "ICB = consulta_bc(27574)\n",
        "ICB = ICB.iloc[-2:,:]\n",
        "ICBvar = (ICB.iloc[-1,1] - ICB.iloc[-2,1])/ICB.iloc[-2,1]\n",
        "print(ICB)\n",
        "lista_var.append(ICBvar)\n",
        "ICBvar"
      ],
      "metadata": {
        "colab": {
          "base_uri": "https://localhost:8080/"
        },
        "id": "eUfxZ9hUZtyI",
        "outputId": "8d4231e2-c5a5-4aa4-c242-c678583701a2"
      },
      "execution_count": null,
      "outputs": [
        {
          "output_type": "stream",
          "name": "stdout",
          "text": [
            "           Data   Valor\n",
            "287  01/12/2021  396.96\n",
            "288  01/01/2022  408.84\n"
          ]
        },
        {
          "output_type": "execute_result",
          "data": {
            "text/plain": [
              "0.02992744860943167"
            ]
          },
          "metadata": {},
          "execution_count": 181
        }
      ]
    },
    {
      "cell_type": "code",
      "source": [
        "#IBOV-Br mensal / valores e variação\n",
        "IBOV = consulta_yf('^BVSP')\n",
        "IBOV['Data'] = IBOV.index\n",
        "str(IBOV.iloc[0,6])\n",
        "IBOV\n",
        "IBOVlst = int(str(IBOV.Data.iloc[-1])[5:7]) \n",
        "for i in range(-1,-32,-1):\n",
        "  if IBOVlst - int(str(IBOV.Data.iloc[i])[5:7]) == 1:\n",
        "    IBOVpass = IBOV.iloc[i,:]\n",
        "    break\n",
        "  else:\n",
        "    continue\n",
        "IBOVlst = IBOV.iloc[-1]\n",
        "print(IBOVlst)\n",
        "print(IBOVpass)\n",
        "IBOVvar = (IBOVlst['Adj Close'] - IBOVpass['Adj Close'])/IBOVpass['Adj Close']\n",
        "lista_var.append(IBOVvar)\n",
        "IBOVvar\n"
      ],
      "metadata": {
        "colab": {
          "base_uri": "https://localhost:8080/"
        },
        "id": "0OfOxmxAaSk9",
        "outputId": "e74e03ef-52fc-4924-f510-d33160de29fa"
      },
      "execution_count": null,
      "outputs": [
        {
          "output_type": "stream",
          "name": "stdout",
          "text": [
            "\r[*********************100%***********************]  1 of 1 completed\n",
            "Open               112891.796875\n",
            "High               113721.382812\n",
            "Low                111888.210938\n",
            "Close                112097.3125\n",
            "Adj Close            112097.3125\n",
            "Volume                         0\n",
            "Data         2022-02-23 00:00:00\n",
            "Name: 2022-02-23 00:00:00, dtype: object\n",
            "Open                    111910.0\n",
            "High                    112495.0\n",
            "Low                     111195.0\n",
            "Close                   112388.0\n",
            "Adj Close               112388.0\n",
            "Volume                  12190800\n",
            "Data         2022-01-31 00:00:00\n",
            "Name: 2022-01-31 00:00:00, dtype: object\n"
          ]
        },
        {
          "output_type": "execute_result",
          "data": {
            "text/plain": [
              "-0.0025864638573513186"
            ]
          },
          "metadata": {},
          "execution_count": 182
        }
      ]
    },
    {
      "cell_type": "code",
      "source": [
        "#SELIC mensal / valores e variação\n",
        "SELIC = consulta_bc(432)\n",
        "SELIClst = int(SELIC.Data.iloc[-1][3:5]) \n",
        "for i in range(-1,-32,-1):\n",
        "  if SELIClst - int(SELIC.Data.iloc[i][3:5]) == 1:\n",
        "    SELICpass = SELIC.iloc[i,:]\n",
        "    break\n",
        "  else:\n",
        "    continue\n",
        "SELIClst = SELIC.iloc[-1]\n",
        "print(SELIClst)\n",
        "print(SELICpass)\n",
        "SELICvar = (SELIClst.Valor - SELICpass.Valor)/SELICpass.Valor\n",
        "lista_var.append(SELICvar)\n",
        "SELICvar"
      ],
      "metadata": {
        "colab": {
          "base_uri": "https://localhost:8080/"
        },
        "id": "FivNkieTaj7q",
        "outputId": "d915c1d2-c6b9-4406-df9a-ec99360acb3e"
      },
      "execution_count": null,
      "outputs": [
        {
          "output_type": "stream",
          "name": "stdout",
          "text": [
            "Data     16/03/2022\n",
            "Valor         10.75\n",
            "Name: 8412, dtype: object\n",
            "Data     28/02/2022\n",
            "Valor         10.75\n",
            "Name: 8396, dtype: object\n"
          ]
        },
        {
          "output_type": "execute_result",
          "data": {
            "text/plain": [
              "0.0"
            ]
          },
          "metadata": {},
          "execution_count": 183
        }
      ]
    },
    {
      "cell_type": "code",
      "source": [
        "#IGP-M mensal / valores e variação\n",
        "IGPM = consulta_bc(189)\n",
        "IGPM = IGPM.iloc[-2:,:]\n",
        "IGPMvar = (IGPM.iloc[-1,1] - IGPM.iloc[-2,1])/IGPM.iloc[-2,1]\n",
        "print(IGPM)\n",
        "lista_var.append(IGPMvar)\n",
        "IGPMvar"
      ],
      "metadata": {
        "colab": {
          "base_uri": "https://localhost:8080/"
        },
        "id": "GPXlid-9aqIU",
        "outputId": "4add4848-1e26-4e03-aaff-fb9ce8f79d92"
      },
      "execution_count": null,
      "outputs": [
        {
          "output_type": "stream",
          "name": "stdout",
          "text": [
            "           Data  Valor\n",
            "390  01/12/2021   0.87\n",
            "391  01/01/2022   1.82\n"
          ]
        },
        {
          "output_type": "execute_result",
          "data": {
            "text/plain": [
              "1.0919540229885059"
            ]
          },
          "metadata": {},
          "execution_count": 184
        }
      ]
    },
    {
      "cell_type": "code",
      "source": [
        "#Dólar mensal / valores e variação\n",
        "DOLAR = consulta_bc(3696)\n",
        "DOLAR = DOLAR.iloc[-2:,:]\n",
        "DOLARvar = (DOLAR.iloc[-1,1] - DOLAR.iloc[-2,1])/DOLAR.iloc[-2,1]\n",
        "print(DOLAR)\n",
        "lista_var.append(DOLARvar)\n",
        "DOLARvar"
      ],
      "metadata": {
        "colab": {
          "base_uri": "https://localhost:8080/"
        },
        "id": "f9_SuNSKaulL",
        "outputId": "de048ce8-fb35-471f-c2bb-a8a918a986e9"
      },
      "execution_count": null,
      "outputs": [
        {
          "output_type": "stream",
          "name": "stdout",
          "text": [
            "           Data   Valor\n",
            "827  01/12/2021  5.5805\n",
            "828  01/01/2022  5.3574\n"
          ]
        },
        {
          "output_type": "execute_result",
          "data": {
            "text/plain": [
              "-0.03997849655048824"
            ]
          },
          "metadata": {},
          "execution_count": 185
        }
      ]
    },
    {
      "cell_type": "code",
      "source": [
        "#Risco Brasil mensal / valores e variação\n",
        "RISKB = consulta_riscobrasil(30)\n",
        "RISKBlst = int(RISKB.Data.iloc[0][3:5]) \n",
        "for i in np.arange(32):\n",
        "  if RISKBlst - int(RISKB.Data.iloc[i][3:5]) == 1:\n",
        "    RISKBpass = RISKB.iloc[i,:]\n",
        "    break\n",
        "  else:\n",
        "    continue\n",
        "RISKBlst = RISKB.iloc[0]\n",
        "print(RISKBlst)\n",
        "print(RISKBpass)\n",
        "RISKBvar = (RISKBlst.Valor - RISKBpass.Valor)/RISKBpass.Valor\n",
        "lista_var.append(RISKBvar)\n",
        "RISKBvar"
      ],
      "metadata": {
        "id": "E-rvwt4waz4u",
        "colab": {
          "base_uri": "https://localhost:8080/"
        },
        "outputId": "5636e09a-c9b8-4d38-dd76-742304ff5077"
      },
      "execution_count": null,
      "outputs": [
        {
          "output_type": "stream",
          "name": "stdout",
          "text": [
            "Data     18/02/2022\n",
            "Valor           340\n",
            "Name: 0, dtype: object\n",
            "Data     31/01/2022\n",
            "Valor           334\n",
            "Name: 14, dtype: object\n"
          ]
        },
        {
          "output_type": "execute_result",
          "data": {
            "text/plain": [
              "0.017964071856287425"
            ]
          },
          "metadata": {},
          "execution_count": 186
        }
      ]
    },
    {
      "cell_type": "code",
      "source": [
        "#IIE-Br mensal / valores e variação\n",
        "m = datetime.today()\n",
        "m = int(str(m)[5:7])\n",
        "IIEn,IIEb = consultavar_iie2022(m)\n",
        "IIEvar = (IIEn - IIEb)/IIEb\n",
        "print(IIEn)\n",
        "print(IIEb)\n",
        "lista_var.append(IIEvar)\n",
        "IIEvar"
      ],
      "metadata": {
        "id": "sGJA-gC6a5p-",
        "colab": {
          "base_uri": "https://localhost:8080/"
        },
        "outputId": "d6d3df59-3b98-4a0b-d289-5beb6fc1cfc6"
      },
      "execution_count": null,
      "outputs": [
        {
          "output_type": "stream",
          "name": "stderr",
          "text": [
            "/usr/local/lib/python3.7/dist-packages/ipykernel_launcher.py:7: DeprecationWarning: use options instead of chrome_options\n",
            "  import sys\n",
            "/usr/local/lib/python3.7/dist-packages/ipykernel_launcher.py:9: DeprecationWarning: find_element_by_xpath is deprecated. Please use find_element(by=By.XPATH, value=xpath) instead\n",
            "  if __name__ == '__main__':\n",
            "/usr/local/lib/python3.7/dist-packages/selenium/webdriver/remote/webelement.py:393: UserWarning: find_element_by_xpath is deprecated. Please use find_element(by=By.XPATH, value=xpath) instead\n",
            "  warnings.warn(\"find_element_by_xpath is deprecated. Please use find_element(by=By.XPATH, value=xpath) instead\")\n"
          ]
        },
        {
          "output_type": "stream",
          "name": "stdout",
          "text": [
            "122.1\n",
            "122.3\n"
          ]
        },
        {
          "output_type": "execute_result",
          "data": {
            "text/plain": [
              "-0.00163532297628784"
            ]
          },
          "metadata": {},
          "execution_count": 187
        }
      ]
    },
    {
      "cell_type": "code",
      "source": [
        "#Produção Industrial mensal / valores e variação\n",
        "PRODIND = consulta_bc(21859)\n",
        "PRODIND = PRODIND.iloc[-2:,:]\n",
        "PRODINDvar = (PRODIND.iloc[-1,1] - PRODIND.iloc[-2,1])/PRODIND.iloc[-2,1]\n",
        "print(PRODIND)\n",
        "lista_var.append(PRODINDvar)\n",
        "PRODINDvar"
      ],
      "metadata": {
        "colab": {
          "base_uri": "https://localhost:8080/"
        },
        "id": "1g_ZsZCCbCDD",
        "outputId": "1731a519-96b1-4d3d-8c3c-1ae153090f46"
      },
      "execution_count": null,
      "outputs": [
        {
          "output_type": "stream",
          "name": "stdout",
          "text": [
            "           Data  Valor\n",
            "238  01/11/2021   86.2\n",
            "239  01/12/2021   79.2\n"
          ]
        },
        {
          "output_type": "execute_result",
          "data": {
            "text/plain": [
              "-0.08120649651972157"
            ]
          },
          "metadata": {},
          "execution_count": 188
        }
      ]
    },
    {
      "cell_type": "code",
      "source": [
        "#Exportações mensal / valores e variação\n",
        "EXPORT = consulta_bc(22711)\n",
        "EXPORT = EXPORT.iloc[-2:,:]\n",
        "EXPORTvar = (EXPORT.iloc[-1,1] - EXPORT.iloc[-2,1])/EXPORT.iloc[-2,1]\n",
        "print(EXPORT)\n",
        "lista_var.append(EXPORTvar)\n",
        "EXPORTvar"
      ],
      "metadata": {
        "colab": {
          "base_uri": "https://localhost:8080/"
        },
        "id": "y1gf6gmgbJwT",
        "outputId": "24820957-7a5e-4b8e-8a9c-d0c98a9731f2"
      },
      "execution_count": null,
      "outputs": [
        {
          "output_type": "stream",
          "name": "stdout",
          "text": [
            "           Data    Valor\n",
            "323  01/12/2021  24147.1\n",
            "324  01/01/2022  19425.0\n"
          ]
        },
        {
          "output_type": "execute_result",
          "data": {
            "text/plain": [
              "-0.19555557396126239"
            ]
          },
          "metadata": {},
          "execution_count": 189
        }
      ]
    },
    {
      "cell_type": "code",
      "source": [
        "#Importações mensal / valores e variação\n",
        "IMPORT = consulta_bc(22712)\n",
        "IMPORT = IMPORT.iloc[-2:,:]\n",
        "IMPORTvar = (IMPORT.iloc[-1,1] - IMPORT.iloc[-2,1])/IMPORT.iloc[-2,1]\n",
        "print(IMPORT)\n",
        "lista_var.append(IMPORTvar)\n",
        "IMPORTvar"
      ],
      "metadata": {
        "colab": {
          "base_uri": "https://localhost:8080/"
        },
        "id": "nWhweLipbPW7",
        "outputId": "411a3d62-2742-4ef4-dabf-9a7f5010bfee"
      },
      "execution_count": null,
      "outputs": [
        {
          "output_type": "stream",
          "name": "stdout",
          "text": [
            "           Data    Valor\n",
            "323  01/12/2021  21915.0\n",
            "324  01/01/2022  21335.3\n"
          ]
        },
        {
          "output_type": "execute_result",
          "data": {
            "text/plain": [
              "-0.02645220168834135"
            ]
          },
          "metadata": {},
          "execution_count": 190
        }
      ]
    },
    {
      "cell_type": "code",
      "source": [
        "#Desemprego mensal / valores e variação\n",
        "DESMP = consulta_bc(24369)\n",
        "DESMP = DESMP.iloc[-2:,:]\n",
        "DESMPvar = (DESMP.iloc[-1,1] - DESMP.iloc[-2,1])/DESMP.iloc[-2,1]\n",
        "print(DESMP)\n",
        "lista_var.append(DESMPvar)\n",
        "DESMPvar"
      ],
      "metadata": {
        "colab": {
          "base_uri": "https://localhost:8080/"
        },
        "id": "35d9Sl3EbS0s",
        "outputId": "a0464e81-3b02-4823-c093-adb238e52221"
      },
      "execution_count": null,
      "outputs": [
        {
          "output_type": "stream",
          "name": "stdout",
          "text": [
            "           Data  Valor\n",
            "115  01/10/2021   12.1\n",
            "116  01/11/2021   11.6\n"
          ]
        },
        {
          "output_type": "execute_result",
          "data": {
            "text/plain": [
              "-0.04132231404958678"
            ]
          },
          "metadata": {},
          "execution_count": 191
        }
      ]
    },
    {
      "cell_type": "code",
      "source": [
        "#Renda Média mensal / valores e variação\n",
        "RENDM = consulta_bc(24381)\n",
        "RENDM = RENDM.iloc[-2:,:]\n",
        "RENDMvar = (RENDM.iloc[-1,1] - RENDM.iloc[-2,1])/RENDM.iloc[-2,1]\n",
        "print(RENDM)\n",
        "lista_var.append(RENDMvar)\n",
        "RENDMvar"
      ],
      "metadata": {
        "colab": {
          "base_uri": "https://localhost:8080/"
        },
        "id": "ybJjdGRXbXe6",
        "outputId": "6d257adb-c490-479e-8fdd-e9aac7e7bb0a"
      },
      "execution_count": null,
      "outputs": [
        {
          "output_type": "stream",
          "name": "stdout",
          "text": [
            "           Data  Valor\n",
            "115  01/09/2021   2483\n",
            "116  01/10/2021   2450\n"
          ]
        },
        {
          "output_type": "execute_result",
          "data": {
            "text/plain": [
              "-0.013290374546919049"
            ]
          },
          "metadata": {},
          "execution_count": 192
        }
      ]
    },
    {
      "cell_type": "markdown",
      "source": [
        "# Agregando as Variações\n",
        "\n"
      ],
      "metadata": {
        "id": "mv1685pOxkSM"
      }
    },
    {
      "cell_type": "code",
      "source": [
        "# Variações dos dados mensais mais recentes dos indicadores\n",
        "lista_var"
      ],
      "metadata": {
        "colab": {
          "base_uri": "https://localhost:8080/"
        },
        "id": "wQIolTY_xnw3",
        "outputId": "899883fe-b5bd-49c7-8dc1-e3ffd7c3cf0d"
      },
      "execution_count": null,
      "outputs": [
        {
          "output_type": "execute_result",
          "data": {
            "text/plain": [
              "[0.012257089024386665,\n",
              " 0.012163709215798634,\n",
              " 0.02992744860943167,\n",
              " -0.0025864638573513186,\n",
              " 0.0,\n",
              " 1.0919540229885059,\n",
              " -0.03997849655048824,\n",
              " 0.017964071856287425,\n",
              " -0.00163532297628784,\n",
              " -0.08120649651972157,\n",
              " -0.19555557396126239,\n",
              " -0.02645220168834135,\n",
              " -0.04132231404958678,\n",
              " -0.013290374546919049]"
            ]
          },
          "metadata": {},
          "execution_count": 193
        }
      ]
    },
    {
      "cell_type": "markdown",
      "source": [
        "# Jogando os dados na planilha de análise\n"
      ],
      "metadata": {
        "id": "Tq3LWl8g8Bh9"
      }
    },
    {
      "cell_type": "code",
      "source": [
        "#Ajustando meses com as colunas do excel\n",
        "mes_col = ['CTRL','D','E','F','G','H','I','J','K','L','M','N','O']\n",
        "m = datetime.today()\n",
        "m = int(str(m)[5:7])"
      ],
      "metadata": {
        "id": "bBXVfHgBf4sz"
      },
      "execution_count": null,
      "outputs": []
    },
    {
      "cell_type": "code",
      "source": [
        "#Dados da variação dos indicadores na coluna do mês atual\n",
        "\n",
        "col = mes_col[m]\n",
        "col\n",
        "\n",
        "wb = load_workbook('ModeloAnalise.xlsx')\n",
        "ws = wb.active\n",
        "ws = wb['Tabela de Tendências Nota']\n",
        "\n",
        "cont = 0\n",
        "contlist = 0\n",
        "for i in ws[col]:\n",
        "  cont += 1\n",
        "  if cont > 4 and cont < 19:\n",
        "    i.value = lista_var[contlist]\n",
        "    contlist += 1\n",
        "  elif cont == 18:\n",
        "    break\n",
        "\n",
        "ws = wb['Tendência para o mês']\n",
        "\n",
        "ws['D19'] = m\n",
        "ws['D20'] = col\n",
        "\n",
        "cont=0\n",
        "for i in ws['G']:\n",
        "  cont \n",
        "wb.save(f'Tendência Setorial 2022.xlsx')"
      ],
      "metadata": {
        "id": "M3VbHhB18HdP"
      },
      "execution_count": null,
      "outputs": []
    }
  ]
}